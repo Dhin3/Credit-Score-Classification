{
 "cells": [
  {
   "cell_type": "code",
   "execution_count": 1,
   "metadata": {},
   "outputs": [],
   "source": [
    "import pandas as pd\n",
    "from sklearn.model_selection import train_test_split\n",
    "from sklearn.preprocessing import StandardScaler,LabelEncoder,MinMaxScaler\n",
    "from sklearn.svm import SVC\n",
    "from sklearn.neighbors import KNeighborsClassifier\n",
    "from sklearn.tree import DecisionTreeClassifier\n",
    "from sklearn.neural_network import MLPClassifier\n",
    "from sklearn.naive_bayes import GaussianNB\n",
    "from sklearn.ensemble import RandomForestClassifier\n",
    "import numpy as np\n",
    "import matplotlib.pyplot as plt\n",
    "from sklearn.metrics import accuracy_score, confusion_matrix, precision_score, recall_score, f1_score\n"
   ]
  },
  {
   "cell_type": "code",
   "execution_count": 2,
   "metadata": {},
   "outputs": [
    {
     "data": {
      "text/html": [
       "<div>\n",
       "<style scoped>\n",
       "    .dataframe tbody tr th:only-of-type {\n",
       "        vertical-align: middle;\n",
       "    }\n",
       "\n",
       "    .dataframe tbody tr th {\n",
       "        vertical-align: top;\n",
       "    }\n",
       "\n",
       "    .dataframe thead th {\n",
       "        text-align: right;\n",
       "    }\n",
       "</style>\n",
       "<table border=\"1\" class=\"dataframe\">\n",
       "  <thead>\n",
       "    <tr style=\"text-align: right;\">\n",
       "      <th></th>\n",
       "      <th>CHK_ACCT</th>\n",
       "      <th>Duration</th>\n",
       "      <th>Balance in Savings A/C</th>\n",
       "      <th>History</th>\n",
       "      <th>Credit Amount</th>\n",
       "      <th>Purpose of credit</th>\n",
       "      <th>Age</th>\n",
       "      <th>Install_rate</th>\n",
       "      <th>Real Estate</th>\n",
       "      <th>Credit classification</th>\n",
       "    </tr>\n",
       "  </thead>\n",
       "  <tbody>\n",
       "    <tr>\n",
       "      <th>0</th>\n",
       "      <td>0DM</td>\n",
       "      <td>6</td>\n",
       "      <td>unknown</td>\n",
       "      <td>critical</td>\n",
       "      <td>1169</td>\n",
       "      <td>radio-tv</td>\n",
       "      <td>67</td>\n",
       "      <td>4</td>\n",
       "      <td>real-estate</td>\n",
       "      <td>good.</td>\n",
       "    </tr>\n",
       "    <tr>\n",
       "      <th>1</th>\n",
       "      <td>less-200DM</td>\n",
       "      <td>48</td>\n",
       "      <td>less100DM</td>\n",
       "      <td>duly-till-now</td>\n",
       "      <td>5951</td>\n",
       "      <td>radio-tv</td>\n",
       "      <td>22</td>\n",
       "      <td>2</td>\n",
       "      <td>real-estate</td>\n",
       "      <td>bad.</td>\n",
       "    </tr>\n",
       "    <tr>\n",
       "      <th>2</th>\n",
       "      <td>no-account</td>\n",
       "      <td>12</td>\n",
       "      <td>less100DM</td>\n",
       "      <td>critical</td>\n",
       "      <td>2096</td>\n",
       "      <td>education</td>\n",
       "      <td>49</td>\n",
       "      <td>2</td>\n",
       "      <td>real-estate</td>\n",
       "      <td>good.</td>\n",
       "    </tr>\n",
       "    <tr>\n",
       "      <th>3</th>\n",
       "      <td>0DM</td>\n",
       "      <td>42</td>\n",
       "      <td>less100DM</td>\n",
       "      <td>duly-till-now</td>\n",
       "      <td>7882</td>\n",
       "      <td>furniture</td>\n",
       "      <td>45</td>\n",
       "      <td>2</td>\n",
       "      <td>building-society</td>\n",
       "      <td>good.</td>\n",
       "    </tr>\n",
       "    <tr>\n",
       "      <th>4</th>\n",
       "      <td>0DM</td>\n",
       "      <td>24</td>\n",
       "      <td>less100DM</td>\n",
       "      <td>delay</td>\n",
       "      <td>4870</td>\n",
       "      <td>new-car</td>\n",
       "      <td>53</td>\n",
       "      <td>3</td>\n",
       "      <td>none</td>\n",
       "      <td>bad.</td>\n",
       "    </tr>\n",
       "  </tbody>\n",
       "</table>\n",
       "</div>"
      ],
      "text/plain": [
       "     CHK_ACCT  Duration Balance in Savings A/C         History  Credit Amount  \\\n",
       "0         0DM         6                unknown        critical           1169   \n",
       "1  less-200DM        48              less100DM   duly-till-now           5951   \n",
       "2  no-account        12              less100DM        critical           2096   \n",
       "3         0DM        42              less100DM   duly-till-now           7882   \n",
       "4         0DM        24              less100DM           delay           4870   \n",
       "\n",
       "  Purpose of credit  Age  Install_rate        Real Estate  \\\n",
       "0          radio-tv   67             4        real-estate   \n",
       "1          radio-tv   22             2        real-estate   \n",
       "2         education   49             2        real-estate   \n",
       "3         furniture   45             2   building-society   \n",
       "4           new-car   53             3               none   \n",
       "\n",
       "  Credit classification  \n",
       "0                 good.  \n",
       "1                  bad.  \n",
       "2                 good.  \n",
       "3                 good.  \n",
       "4                  bad.  "
      ]
     },
     "execution_count": 2,
     "metadata": {},
     "output_type": "execute_result"
    }
   ],
   "source": [
    "dataset = pd.read_csv('credit_rating.csv')\n",
    "dataset.drop(columns='S.No',inplace=True)\n",
    "selected=['CHK_ACCT','Duration','Balance in Savings A/C','History','Credit Amount','Purpose of credit','Duration','Age','Install_rate','Real Estate','Credit classification']\n",
    "dataset=dataset[selected]\n",
    "dataset = dataset.loc[:, ~dataset.columns.duplicated()]\n",
    "dataset.head()"
   ]
  },
  {
   "cell_type": "code",
   "execution_count": 3,
   "metadata": {},
   "outputs": [
    {
     "data": {
      "text/plain": [
       "Index(['CHK_ACCT', 'Duration', 'Balance in Savings A/C', 'History',\n",
       "       'Credit Amount', 'Purpose of credit', 'Age', 'Install_rate',\n",
       "       'Real Estate', 'Credit classification'],\n",
       "      dtype='object')"
      ]
     },
     "execution_count": 3,
     "metadata": {},
     "output_type": "execute_result"
    }
   ],
   "source": [
    "dataset.columns"
   ]
  },
  {
   "cell_type": "markdown",
   "metadata": {},
   "source": []
  },
  {
   "cell_type": "code",
   "execution_count": 4,
   "metadata": {},
   "outputs": [],
   "source": [
    "encoder = LabelEncoder()\n",
    "categorical_columns = dataset.select_dtypes(include=['object']).columns.tolist()\n",
    "for ft in categorical_columns:\n",
    "    dataset[ft]=encoder.fit_transform(dataset[ft])\n"
   ]
  },
  {
   "cell_type": "code",
   "execution_count": 5,
   "metadata": {},
   "outputs": [
    {
     "data": {
      "text/plain": [
       "CHK_ACCT                  0\n",
       "Duration                  0\n",
       "Balance in Savings A/C    0\n",
       "History                   0\n",
       "Credit Amount             0\n",
       "Purpose of credit         0\n",
       "Age                       0\n",
       "Install_rate              0\n",
       "Real Estate               0\n",
       "Credit classification     0\n",
       "dtype: int64"
      ]
     },
     "execution_count": 5,
     "metadata": {},
     "output_type": "execute_result"
    }
   ],
   "source": [
    "dataset.isna().sum()\n"
   ]
  },
  {
   "cell_type": "code",
   "execution_count": 6,
   "metadata": {},
   "outputs": [
    {
     "data": {
      "text/plain": [
       "CHK_ACCT                  0\n",
       "Duration                  0\n",
       "Balance in Savings A/C    0\n",
       "History                   0\n",
       "Credit Amount             0\n",
       "Purpose of credit         0\n",
       "Age                       0\n",
       "Install_rate              0\n",
       "Real Estate               0\n",
       "Credit classification     0\n",
       "dtype: int64"
      ]
     },
     "execution_count": 6,
     "metadata": {},
     "output_type": "execute_result"
    }
   ],
   "source": [
    "dataset.isnull().sum()"
   ]
  },
  {
   "cell_type": "code",
   "execution_count": 7,
   "metadata": {},
   "outputs": [],
   "source": [
    "class_count = dataset['Credit classification'].value_counts()\n"
   ]
  },
  {
   "cell_type": "code",
   "execution_count": 8,
   "metadata": {},
   "outputs": [
    {
     "data": {
      "image/png": "[encoded data removed]",
      "text/plain": [
       "<Figure size 640x480 with 1 Axes>"
      ]
     },
     "metadata": {},
     "output_type": "display_data"
    }
   ],
   "source": [
    "colors=['lightgreen','lightpink']\n",
    "class_count.plot(kind=\"bar\",color=colors[:len(class_count)])\n",
    "plt.xlabel(\"Credit Score\")\n",
    "plt.ylabel(\"Count\")\n",
    "plt.title(\"Credit Score Classes\")\n",
    "plt.show()"
   ]
  },
  {
   "cell_type": "code",
   "execution_count": 9,
   "metadata": {},
   "outputs": [],
   "source": [
    "x=dataset.iloc[:,:-1].values\n",
    "y=dataset.iloc[:,-1].values"
   ]
  },
  {
   "cell_type": "code",
   "execution_count": 10,
   "metadata": {},
   "outputs": [],
   "source": [
    "x_train,x_test,y_train,y_test = train_test_split(x,y,test_size=0.2,random_state=45)"
   ]
  },
  {
   "cell_type": "code",
   "execution_count": 11,
   "metadata": {},
   "outputs": [],
   "source": [
    "sc = MinMaxScaler()\n",
    "X_train_std = sc.fit_transform(x_train)\n",
    "X_test_std = sc.fit_transform(x_test)"
   ]
  },
  {
   "cell_type": "code",
   "execution_count": 12,
   "metadata": {},
   "outputs": [],
   "source": [
    "rf = RandomForestClassifier(random_state=45)\n",
    "rf.fit(X_train_std, y_train)\n",
    "# Predict\n",
    "y_pred = rf.predict(X_test_std)\n",
    "# Calculate metrics\n",
    "accuracy = accuracy_score(y_test, y_pred)\n",
    "precision = precision_score(y_test, y_pred, average='weighted')\n",
    "recall = recall_score(y_test, y_pred, average='weighted')\n",
    "f1 = f1_score(y_test, y_pred, average='weighted')"
   ]
  },
  {
   "cell_type": "code",
   "execution_count": 13,
   "metadata": {},
   "outputs": [
    {
     "name": "stdout",
     "output_type": "stream",
     "text": [
      "Accuracy:  0.72\n",
      "Precision: 0.71\n",
      "Recall:  0.72\n",
      "F1 - score: 0.71\n"
     ]
    }
   ],
   "source": [
    "print('Accuracy: ',accuracy)\n",
    "print(f'Precision: {precision:.2f}')\n",
    "print('Recall: ',recall)\n",
    "print(f'F1 - score: {f1:.2f}')"
   ]
  },
  {
   "cell_type": "code",
   "execution_count": 14,
   "metadata": {},
   "outputs": [
    {
     "name": "stdout",
     "output_type": "stream",
     "text": [
      "Confusion matrix, without normalization\n",
      "Normalized confusion matrix\n"
     ]
    },
    {
     "data": {
      "image/png": "[encoded data removed]",
      "text/plain": [
       "<Figure size 640x480 with 2 Axes>"
      ]
     },
     "metadata": {},
     "output_type": "display_data"
    },
    {
     "data": {
      "image/png": "[encoded data removed]",
      "text/plain": [
       "<Figure size 640x480 with 2 Axes>"
      ]
     },
     "metadata": {},
     "output_type": "display_data"
    }
   ],
   "source": [
    "from sklearn.metrics import confusion_matrix, accuracy_score\n",
    "\n",
    "# Assuming y_true contains the true labels and y_pred contains the predicted labels\n",
    "\n",
    "def plot_confusion_matrix(cm, classes, acc, normalize=False, title='Confusion matrix', cmap=plt.cm.Blues):\n",
    "    \"\"\"\n",
    "    This function prints and plots the confusion matrix.\n",
    "    Normalization can be applied by setting `normalize=True`.\n",
    "    \"\"\"\n",
    "    if normalize:\n",
    "        cm = cm.astype('float') / cm.sum(axis=1)[:, np.newaxis]\n",
    "        print(\"Normalized confusion matrix\")\n",
    "    else:\n",
    "        print('Confusion matrix, without normalization')\n",
    "\n",
    "    plt.imshow(cm, interpolation='nearest', cmap=cmap)\n",
    "    plt.title(title + '\\nAccuracy: {:.2f}'.format(acc))\n",
    "    plt.colorbar()\n",
    "    tick_marks = np.arange(len(classes))\n",
    "    plt.xticks(tick_marks, classes, rotation=45)\n",
    "    plt.yticks(tick_marks, classes)\n",
    "\n",
    "    fmt = '.2f' if normalize else 'd'\n",
    "    thresh = cm.max() / 2.\n",
    "    for i in range(cm.shape[0]):\n",
    "        for j in range(cm.shape[1]):\n",
    "            plt.text(j, i, format(cm[i, j], fmt),\n",
    "                     horizontalalignment=\"center\",\n",
    "                     color=\"white\" if cm[i, j] > thresh else \"black\")\n",
    "\n",
    "    plt.tight_layout()\n",
    "    plt.ylabel('True label')\n",
    "    plt.xlabel('Predicted label')\n",
    "# Compute confusion matrix\n",
    "cm = confusion_matrix(y_test, y_pred)\n",
    "\n",
    "# Compute accuracy\n",
    "accuracy = accuracy_score(y_test, y_pred)\n",
    "\n",
    "# Define the class labels\n",
    "class_names = ['Bad', 'Good']\n",
    "\n",
    "# Plot non-normalized confusion matrix\n",
    "plt.figure()\n",
    "plot_confusion_matrix(cm, classes=class_names, acc=accuracy, title='Confusion matrix, without normalization')\n",
    "\n",
    "# Plot normalized confusion matrix\n",
    "plt.figure()\n",
    "plot_confusion_matrix(cm, classes=class_names, acc=accuracy, normalize=True, title='Normalized confusion matrix')\n",
    "\n",
    "plt.show()\n"
   ]
  },
  {
   "cell_type": "code",
   "execution_count": 15,
   "metadata": {},
   "outputs": [
    {
     "data": {
      "text/plain": [
       "['randomForest.joblib']"
      ]
     },
     "execution_count": 15,
     "metadata": {},
     "output_type": "execute_result"
    }
   ],
   "source": [
    "import joblib\n",
    "from flask import Flask, render_template, request\n",
    "joblib.dump(rf, 'randomForest.joblib')"
   ]
  },
  {
   "cell_type": "code",
   "execution_count": 35,
   "metadata": {},
   "outputs": [],
   "source": [
    "def make_prediction(chkacct, duration, balanceInSavings, history,creditAmount, purposeofcredit, age, install_rate,RealEstate):\n",
    "    model = joblib.load('randomForest.joblib')\n",
    "    inputAttri = [[chkacct,duration, balanceInSavings,history,creditAmount, purposeofcredit, age, install_rate,RealEstate]]\n",
    "    inputAttri=sc.transform(inputAttri)\n",
    "    prediction = model.predict(inputAttri)\n",
    "    if prediction[0] == 1:\n",
    "        return 'GOOD'\n",
    "    else:\n",
    "        return 'BAD'"
   ]
  },
  {
   "cell_type": "code",
   "execution_count": 17,
   "metadata": {},
   "outputs": [
    {
     "data": {
      "text/plain": [
       "'GOOD'"
      ]
     },
     "execution_count": 17,
     "metadata": {},
     "output_type": "execute_result"
    }
   ],
   "source": [
    "make_prediction(1,   2,    9,    4, 6,    6,   22,    1,    3)"
   ]
  },
  {
   "cell_type": "code",
   "execution_count": 37,
   "metadata": {},
   "outputs": [
    {
     "name": "stdout",
     "output_type": "stream",
     "text": [
      " * Serving Flask app '__main__'\n",
      " * Debug mode: off\n"
     ]
    },
    {
     "name": "stderr",
     "output_type": "stream",
     "text": [
      "WARNING: This is a development server. Do not use it in a production deployment. Use a production WSGI server instead.\n",
      " * Running on http://127.0.0.1:5000\n",
      "Press CTRL+C to quit\n",
      "127.0.0.1 - - [11/Jun/2024 10:35:26] \"GET / HTTP/1.1\" 200 -\n",
      "127.0.0.1 - - [11/Jun/2024 10:35:27] \"GET /static/wallpaperflare.com_wallpaper.jpg HTTP/1.1\" 304 -\n",
      "127.0.0.1 - - [11/Jun/2024 10:35:51] \"POST / HTTP/1.1\" 200 -\n"
     ]
    }
   ],
   "source": [
    "from flask import Flask, render_template, request, jsonify\n",
    "\n",
    "app = Flask(__name__, static_url_path='/static')\n",
    "\n",
    "@app.route('/', methods=['GET', 'POST'])\n",
    "def index():\n",
    "    if request.method == 'POST':\n",
    "        # Get form data\n",
    "        data = request.get_json()\n",
    "        chkacct = int(data['chkacct'])\n",
    "        duration = int(data['duration'])\n",
    "        balanceInSavings = int(data['balanceInSavings'])\n",
    "        history = int(data['history'])\n",
    "        creditAmount = int(data['creditAmount'])\n",
    "        purposeofcredit = int(data['purposeofcredit'])\n",
    "        age = int(data['age'])\n",
    "        install_rate = int(data['install_rate'])\n",
    "        RealEstate = int(data['RealEstate'])\n",
    "        \n",
    "        # Call your prediction function\n",
    "        result = make_prediction(chkacct, duration, balanceInSavings, history, creditAmount, purposeofcredit, age, install_rate, RealEstate)\n",
    "        \n",
    "        return jsonify({'prediction': result})\n",
    "    \n",
    "    return render_template('form.html')\n",
    "\n",
    "if __name__ == '__main__':\n",
    "    app.run()\n"
   ]
  },
  {
   "cell_type": "code",
   "execution_count": null,
   "metadata": {},
   "outputs": [],
   "source": []
  }
 ],
 "metadata": {
  "kernelspec": {
   "display_name": "base",
   "language": "python",
   "name": "python3"
  },
  "language_info": {
   "codemirror_mode": {
    "name": "ipython",
    "version": 3
   },
   "file_extension": ".py",
   "mimetype": "text/x-python",
   "name": "python",
   "nbconvert_exporter": "python",
   "pygments_lexer": "ipython3",
   "version": "3.11.5"
  }
 },
 "nbformat": 4,
 "nbformat_minor": 2
}
